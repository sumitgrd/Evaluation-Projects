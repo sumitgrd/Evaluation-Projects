{
 "cells": [
  {
   "cell_type": "markdown",
   "id": "5caab872",
   "metadata": {},
   "source": [
    "Baseball Case Study\n",
    "Project Description\n",
    "This dataset utilizes data from 2014 Major League Baseball seasons in order to develop an algorithm that predicts the number of wins for a given team in the 2015 season based on several different indicators of success. There are 16 different features that will be used as the inputs to the machine learning and the output will be a value that represents the number of wins. \n",
    "-- Input features-\n",
    "1.\tW - This indicates the number of Wins credited to a pitcher: number of games where pitcher was pitching while their team took the lead and went on to win, also the starter needs to pitch at least 5 innings of work.\n",
    "2.\tR - This indicates Runs scored. A run is scored when a player advances around first, second and third base and returns safely to home plate, touching the bases in that order, before three outs are recorded and all obligations to reach base safely on batted balls are met or assured: number of times a player crosses home plate.\n",
    "3.\tAB - This means At bat or time at bat. It's is a batter's turn batting against a pitcher: plate appearances, not including bases on balls, being hit by pitch, sacrifices, interference, or obstruction.\n",
    "4.\tH - This means Hit. It's also called a \"base hit\", is credited to a batter when the batter safely reaches or passes first base after hitting the ball into fair territory, without the benefit of either an error or a fielder's choice: reaching base because of a batted, fair ball without error by the defense.\n",
    "5.\t2B - This means the act of a batter striking the pitched ball and safely reaching second base without being called out by the umpire, without the benefit of a fielder's misplay (see error) or another runner being put out on a fielder's choice. A double is a type of hit (the others being the single, triple and home run) and is sometimes called a \"two-bagger\" or \"two-base hit\": hits on which the batter reaches second base safely without the contribution of a fielding error.\n",
    "6.\t3B - This measns a Triple.It's is the act of a batter safely reaching third base after hitting the ball, with neither the benefit of a fielder's misplay nor another runner being put out on a fielder's choice. A triple is sometimes called a \"three-bagger\" or \"three-base hit\": hits on which the batter reaches third base safely without the contribution of a fielding error.\n",
    "7.\tHR - This means Home runs. It's scored when the ball is hit in such a way that the batter is able to circle the bases and reach home plate safely in one play without any errors being committed by the defensive team. A home run is usually achieved by hitting the ball over the outfield fence between the foul poles (or hitting either foul pole) without the ball touching the field: hits on which the batter successfully touched all four bases, without the contribution of a fielding error.\n",
    "8.\tBB - This means Base on balls (also called a \"walk\"). It occurs in baseball when a batter receives four pitches that the umpire calls balls, and is in turn awarded first base without the possibility of being called out: hitter not swinging at four pitches called out of the strike zone and awarded first base.\n",
    "9.\tSO - Also denoted as \"K\" means Strikeout. It occurs when a batter accumulates three strikes during a time at bat. It usually means that the batter is out: number of batters who received strike three.\n",
    "10.\tSB - This means Stolen base. It occurs when a runner advances to a base to which they are not entitled and the official scorer rules that the advance should be credited to the action of the runner: number of bases advanced by the runner while the ball is in the possession of the defense.\n",
    "11.\tRA - This means Run Average. It refer to measures of the rate at which runs are allowed or scored.\n",
    "12.\tER - This means Earned run. It refers to any run that was fully enabled by the offensive team's production in the face of competent play from the defensive team: number of runs that did not occur as a result of errors or passed balls.\n",
    "13.\tERA - This means Earned Run Average. It refers to the average of earned runs allowed by a pitcher per nine innings pitched (i.e. the traditional length of a game). It is determined by dividing the number of earned runs allowed by the number of innings pitched and multiplying by nine: total number of earned runs (see \"ER\" above), multiplied by 9, divided by innings pitched.\n",
    "14.\tCG - This means Complete Game. It's the act of a pitcher pitching an entire game without the benefit of a relief pitcher. A pitcher who meets this criterion will be credited with a complete game regardless of the number of innings played: number of games where player was the only pitcher for their team.\n",
    "15.\tSHO - This means Shutout. It refers to the act by which a single pitcher pitches a complete game and does not allow the opposing team to score a run: number of complete games pitched with no runs allowed.\n",
    "16.\tSV - This means Save. It's credited to a pitcher who finishes a game for the winning team under certain prescribed circumstances: number of games where the pitcher enters a game led by the pitcher's team, finishes the game without surrendering the lead, is not the winning pitcher, and either (a) the lead was three runs or fewer when the pitcher entered the game; (b) the potential tying run was on base, at bat, or on deck; or (c) the pitcher pitched three or more innings.\n",
    "17.\tE - This means Errors. It's an act, in the judgment of the official scorer, of a fielder misplaying a ball in a manner that allows a batter or baserunner to advance one or more bases or allows a plate appearance to continue after the batter should have been put out. The term error is sometimes used to refer to the play during which an error was committed: number of times a fielder fails to make a play he should have made with common effort, and the offense benefits as a result.\n",
    "\n",
    "-- Output: Number of predicted wins (W)\n",
    "To understand the columns meaning, follow the link given below to understand the baseball statistics: https://en.wikipedia.org/wiki/Baseball_statistics\n",
    "For downloading the dataset, use the link given below. \n",
    "\n",
    "Dataset Link-\n",
    "•\thttps://github.com/FlipRoboTechnologies/ML_-Datasets/blob/main/Baseball/baseball.csv\n",
    "\n",
    "\n",
    "\n",
    "\n"
   ]
  },
  {
   "cell_type": "markdown",
   "id": "50938124",
   "metadata": {},
   "source": [
    "Importing Libraries & Data¶"
   ]
  },
  {
   "cell_type": "code",
   "execution_count": null,
   "id": "3933abb7",
   "metadata": {},
   "outputs": [],
   "source": [
    "import numpy as np\n",
    "import pandas as pd\n",
    "import matplotlib.pylab as plt\n",
    "import seaborn as sns\n",
    "\n",
    "from sklearn import preprocessing\n",
    "from sklearn import metrics\n",
    "from sklearn.model_selection import train_test_split\n",
    "from scipy.stats import zscore\n",
    "\n",
    "import lazypredict\n",
    "from lazypredict.Supervised import LazyRegressor\n",
    "\n",
    "import warnings\n",
    "warnings.filterwarnings('ignore')"
   ]
  },
  {
   "cell_type": "code",
   "execution_count": null,
   "id": "2e9d50db",
   "metadata": {},
   "outputs": [],
   "source": [
    "df = pd.read_csv('https://raw.githubusercontent.com/dsrscientist/Data-Science-ML-Capstone-Projects/master/baseball.csv')"
   ]
  },
  {
   "cell_type": "markdown",
   "id": "f6fba84c",
   "metadata": {},
   "source": [
    "Understanding the Data"
   ]
  },
  {
   "cell_type": "code",
   "execution_count": null,
   "id": "b1a028b1",
   "metadata": {},
   "outputs": [],
   "source": [
    "df.head()"
   ]
  },
  {
   "cell_type": "code",
   "execution_count": null,
   "id": "3d76b96e",
   "metadata": {},
   "outputs": [],
   "source": [
    "df.info()"
   ]
  },
  {
   "cell_type": "code",
   "execution_count": null,
   "id": "96c5d917",
   "metadata": {},
   "outputs": [],
   "source": [
    "df.describe()"
   ]
  },
  {
   "cell_type": "markdown",
   "id": "78fc1c6a",
   "metadata": {},
   "source": [
    "Preparation of the Data"
   ]
  },
  {
   "cell_type": "code",
   "execution_count": null,
   "id": "ef0b1696",
   "metadata": {},
   "outputs": [],
   "source": [
    "df.info()"
   ]
  },
  {
   "cell_type": "markdown",
   "id": "95b1022b",
   "metadata": {},
   "source": [
    "Understanding Features"
   ]
  },
  {
   "cell_type": "code",
   "execution_count": null,
   "id": "286f2c87",
   "metadata": {},
   "outputs": [],
   "source": [
    "sns.countplot(x='W', data=df);"
   ]
  },
  {
   "cell_type": "code",
   "execution_count": null,
   "id": "b1b31f36",
   "metadata": {},
   "outputs": [],
   "source": [
    "df.hist(bins=8,figsize=(15,15));"
   ]
  },
  {
   "cell_type": "code",
   "execution_count": null,
   "id": "2eee4031",
   "metadata": {},
   "outputs": [],
   "source": [
    "df.plot(kind='box',subplots=True,layout=(6,3),figsize=(10,10));"
   ]
  },
  {
   "cell_type": "markdown",
   "id": "8424bd58",
   "metadata": {},
   "source": [
    "Understanding Feature Relationships"
   ]
  },
  {
   "cell_type": "code",
   "execution_count": null,
   "id": "8ac8bf2d",
   "metadata": {},
   "outputs": [],
   "source": [
    "sns.pairplot(df, palette=\"Dark2\", hue='W');"
   ]
  },
  {
   "cell_type": "code",
   "execution_count": null,
   "id": "dc58323c",
   "metadata": {},
   "outputs": [],
   "source": [
    "plt.figure(figsize=(15,10))\n",
    "sns.heatmap(df.corr(numeric_only=True), annot=True):"
   ]
  },
  {
   "cell_type": "code",
   "execution_count": null,
   "id": "167c9558",
   "metadata": {},
   "outputs": [],
   "source": [
    "plt.figure(figsize=(20,25))\n",
    "p=1\n",
    "for i in df:\n",
    "    if p<=21:\n",
    "        plt.subplot(7,3,p)\n",
    "        sns.regplot(x='W', y=i, data=df)\n",
    "        plt.xlabel('W')\n",
    "        plt.ylabel(i)\n",
    "    p+=1\n",
    "plt.show()"
   ]
  },
  {
   "cell_type": "markdown",
   "id": "4bf1c532",
   "metadata": {},
   "source": [
    "Model Preparation"
   ]
  },
  {
   "cell_type": "code",
   "execution_count": null,
   "id": "3d97447a",
   "metadata": {},
   "outputs": [],
   "source": [
    "# Checking Skewness\n",
    "\n",
    "df_skew = df.skew()\n",
    "df_skew"
   ]
  },
  {
   "cell_type": "code",
   "execution_count": null,
   "id": "a93bb37b",
   "metadata": {},
   "outputs": [],
   "source": [
    "# Removing Skewness Using Cuberoot\n",
    "\n",
    "for index, value in df_skew.iteritems():\n",
    "    if value > 0.5 or value < -0.5:\n",
    "        df[index] = np.cbrt(df[index])\n",
    "df.skew()"
   ]
  },
  {
   "cell_type": "code",
   "execution_count": null,
   "id": "3f5d6a75",
   "metadata": {},
   "outputs": [],
   "source": [
    "# Assigning Feature & Target Data\n",
    "\n",
    "x = df.drop(['W'], axis=1)\n",
    "y = df[['W']]"
   ]
  },
  {
   "cell_type": "code",
   "execution_count": null,
   "id": "5071eec1",
   "metadata": {},
   "outputs": [],
   "source": [
    "scaler = preprocessing.StandardScaler()\n",
    "x = pd.DataFrame(scaler.fit_transform(x), columns = x.columns)"
   ]
  },
  {
   "cell_type": "code",
   "execution_count": null,
   "id": "8a42d8d0",
   "metadata": {},
   "outputs": [],
   "source": [
    "# Checking Variance Inflation Factor\n",
    "\n",
    "from statsmodels.stats.outliers_influence import variance_inflation_factor\n",
    "vif = pd.DataFrame()\n",
    "vif[\"VIF values\"] = [variance_inflation_factor(x.values,i)\n",
    "                        for i in range(len(x.columns))]\n",
    "vif[\"Features\"] = x.columns\n",
    "\n",
    "vif"
   ]
  },
  {
   "cell_type": "code",
   "execution_count": null,
   "id": "0458f1c3",
   "metadata": {},
   "outputs": [],
   "source": [
    "x = x.drop(['ERA'], axis=1)"
   ]
  },
  {
   "cell_type": "code",
   "execution_count": null,
   "id": "264f72ee",
   "metadata": {},
   "outputs": [],
   "source": [
    "vif = pd.DataFrame()\n",
    "vif[\"VIF values\"] = [variance_inflation_factor(x.values,i)\n",
    "                        for i in range(len(x.columns))]\n",
    "vif[\"Features\"] = x.columns\n",
    "\n",
    "vif"
   ]
  },
  {
   "cell_type": "code",
   "execution_count": null,
   "id": "53504494",
   "metadata": {},
   "outputs": [],
   "source": [
    "xtrain,xtest,ytrain,ytest = train_test_split(x,y,test_size = .25, random_state = 39)"
   ]
  },
  {
   "cell_type": "code",
   "execution_count": null,
   "id": "3f63166b",
   "metadata": {},
   "outputs": [],
   "source": [
    "Model Creation"
   ]
  },
  {
   "cell_type": "code",
   "execution_count": null,
   "id": "60777a1a",
   "metadata": {},
   "outputs": [],
   "source": [
    "reg = LazyRegressor(verbose=0, ignore_warnings=False, custom_metric=None)\n",
    "reg_models, predictions = reg.fit(xtrain, xtest, ytrain, ytest)\n",
    "print(reg_models)"
   ]
  },
  {
   "cell_type": "markdown",
   "id": "4b7bb39e",
   "metadata": {},
   "source": [
    "Model Evaluation"
   ]
  },
  {
   "cell_type": "code",
   "execution_count": null,
   "id": "07459816",
   "metadata": {},
   "outputs": [],
   "source": [
    "from sklearn.linear_model import Ridge\n",
    "r_clf = Ridge(random_state = 39)"
   ]
  },
  {
   "cell_type": "code",
   "execution_count": null,
   "id": "d30377df",
   "metadata": {},
   "outputs": [],
   "source": [
    "r_clf.fit(xtrain,ytrain)"
   ]
  },
  {
   "cell_type": "code",
   "execution_count": null,
   "id": "76881d2e",
   "metadata": {},
   "outputs": [],
   "source": [
    "from sklearn.linear_model import Ridge\n",
    "from sklearn.model_selection import GridSearchCV\n",
    "\n",
    "grid_param = {'alpha':[0.0001,0.001,0.01,0.1,1,10], \n",
    "              'fit_intercept': [True,False], \n",
    "              'copy_X': [True , False], \n",
    "              'tol':[0.0001,0.001,0.01,0.1,1,10]}"
   ]
  },
  {
   "cell_type": "code",
   "execution_count": null,
   "id": "c997657a",
   "metadata": {},
   "outputs": [],
   "source": [
    "grid_search = GridSearchCV(estimator=r_clf, param_grid=grid_param, cv=2, verbose=3)"
   ]
  },
  {
   "cell_type": "code",
   "execution_count": null,
   "id": "1ba8e0cf",
   "metadata": {},
   "outputs": [],
   "source": [
    "grid_search.fit(xtrain,ytrain)"
   ]
  },
  {
   "cell_type": "code",
   "execution_count": null,
   "id": "d465034c",
   "metadata": {},
   "outputs": [],
   "source": [
    "grid_search.best_params_"
   ]
  },
  {
   "cell_type": "code",
   "execution_count": null,
   "id": "ef0a0bff",
   "metadata": {},
   "outputs": [],
   "source": [
    "Final_model = Ridge(alpha=10, copy_X=True, fit_intercept=True, tol=0.0001)\n",
    "Final_model.fit(xtrain, ytrain)"
   ]
  },
  {
   "cell_type": "code",
   "execution_count": null,
   "id": "f22043b3",
   "metadata": {},
   "outputs": [],
   "source": [
    "from sklearn.metrics import r2_score\n",
    "\n",
    "rd_pred= Final_model.predict(xtest)\n",
    "r2s=r2_score(ytest, rd_pred)\n",
    "print('r2 score: ', r2s*100)"
   ]
  }
 ],
 "metadata": {
  "kernelspec": {
   "display_name": "Python 3 (ipykernel)",
   "language": "python",
   "name": "python3"
  },
  "language_info": {
   "codemirror_mode": {
    "name": "ipython",
    "version": 3
   },
   "file_extension": ".py",
   "mimetype": "text/x-python",
   "name": "python",
   "nbconvert_exporter": "python",
   "pygments_lexer": "ipython3",
   "version": "3.11.4"
  }
 },
 "nbformat": 4,
 "nbformat_minor": 5
}
